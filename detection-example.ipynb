{
  "nbformat": 4,
  "nbformat_minor": 0,
  "metadata": {
    "colab": {
      "name": "detection-example.ipynb",
      "provenance": [],
      "collapsed_sections": [],
      "authorship_tag": "ABX9TyNM0guJF1zBENUOCiqo8ItI",
      "include_colab_link": true
    },
    "kernelspec": {
      "name": "python3",
      "display_name": "Python 3"
    }
  },
  "cells": [
    {
      "cell_type": "markdown",
      "metadata": {
        "id": "view-in-github",
        "colab_type": "text"
      },
      "source": [
        "<a href=\"https://colab.research.google.com/github/satvik-venkatesh/audio-seg-data-synth/blob/main/detection-example.ipynb\" target=\"_parent\"><img src=\"https://colab.research.google.com/assets/colab-badge.svg\" alt=\"Open In Colab\"/></a>"
      ]
    },
    {
      "cell_type": "markdown",
      "metadata": {
        "id": "47nEG6OxAm33"
      },
      "source": [
        "Please note that the pre-trained models are for non-commercial use only. It is under the [Create Commons Attribution-NonCommercial-ShareAlike-3.0 Unported (CC BY-NC-SA 3.0) license](https://creativecommons.org/licenses/by-nc-sa/3.0/).\n"
      ]
    },
    {
      "cell_type": "markdown",
      "metadata": {
        "id": "1CvxyFSQBRPb"
      },
      "source": [
        "This colab notebook performs music-speech detection on audio files through a command-line interface. It uses a pre-trained model called 'model d-DS' explained in the paper."
      ]
    },
    {
      "cell_type": "code",
      "metadata": {
        "id": "9DwsCpoPAKRb"
      },
      "source": [
        "!pip install librosa==0.7.2\n",
        "!pip install soundfile==0.10.3.post1\n",
        "!pip install tensorflow==2.3.0"
      ],
      "execution_count": null,
      "outputs": []
    },
    {
      "cell_type": "code",
      "metadata": {
        "id": "EWRMmLt9AQQf"
      },
      "source": [
        "!git clone https://github.com/satvik-venkatesh/audio-seg-data-synth.git"
      ],
      "execution_count": null,
      "outputs": []
    },
    {
      "cell_type": "code",
      "metadata": {
        "id": "F5Ld-uqBAdJH"
      },
      "source": [
        "!cp \"/content/audio-seg-data-synth/models/doMusicAndSpeechDetection.py\" .\n",
        "!cp \"/content/audio-seg-data-synth/models/model d-DS.h5\" .\n",
        "!cp \"/content/audio-seg-data-synth/audio/Finger Slap - Satvik ft. Sarvesh and Aadarsh.wav\" ."
      ],
      "execution_count": null,
      "outputs": []
    },
    {
      "cell_type": "markdown",
      "metadata": {
        "id": "oaOqthHYCBnI"
      },
      "source": [
        "Perform the detection through the command-line argument."
      ]
    },
    {
      "cell_type": "code",
      "metadata": {
        "id": "8c_J8WfVAeoV"
      },
      "source": [
        "!python doMusicAndSpeechDetection.py \"Finger Slap - Satvik ft. Sarvesh and Aadarsh.wav\" \"MS-detection.txt\""
      ],
      "execution_count": null,
      "outputs": []
    },
    {
      "cell_type": "markdown",
      "metadata": {
        "id": "pJtn5M_pAhmm"
      },
      "source": [
        "You can find the music-speech detection in \"MS-detection.txt\""
      ]
    }
  ]
}