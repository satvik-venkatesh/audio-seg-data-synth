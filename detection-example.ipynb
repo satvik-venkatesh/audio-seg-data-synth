{
  "nbformat": 4,
  "nbformat_minor": 0,
  "metadata": {
    "colab": {
      "name": "detection-example.ipynb",
      "provenance": [],
      "collapsed_sections": [],
      "authorship_tag": "ABX9TyPWGZI6mLWzuES90CDbOuKn",
      "include_colab_link": true
    },
    "kernelspec": {
      "name": "python3",
      "display_name": "Python 3"
    }
  },
  "cells": [
    {
      "cell_type": "markdown",
      "metadata": {
        "id": "view-in-github",
        "colab_type": "text"
      },
      "source": [
        "<a href=\"https://colab.research.google.com/github/satvik-venkatesh/audio-seg-data-synth/blob/main/detection-example.ipynb\" target=\"_parent\"><img src=\"https://colab.research.google.com/assets/colab-badge.svg\" alt=\"Open In Colab\"/></a>"
      ]
    },
    {
      "cell_type": "markdown",
      "metadata": {
        "id": "47nEG6OxAm33"
      },
      "source": [
        "Please note that the pre-trained models are for non-commercial use only. It is under the [Create Commons Attribution-NonCommercial-ShareAlike-3.0 Unported (CC BY-NC-SA 3.0) license](https://creativecommons.org/licenses/by-nc-sa/3.0/).\n"
      ]
    },
    {
      "cell_type": "markdown",
      "metadata": {
        "id": "1CvxyFSQBRPb"
      },
      "source": [
        "This colab notebook performs music-speech detection on audio files through a command-line interface. It uses a pre-trained model called 'model d-DS' explained in the [paper](https://ieeexplore.ieee.org/document/9413597)."
      ]
    },
    {
      "cell_type": "code",
      "metadata": {
        "id": "EWRMmLt9AQQf"
      },
      "source": [
        "!git clone https://github.com/satvik-venkatesh/audio-seg-data-synth.git"
      ],
      "execution_count": null,
      "outputs": []
    },
    {
      "cell_type": "markdown",
      "metadata": {
        "id": "m3Oc_NbboJYU"
      },
      "source": [
        "Copy the script files, pre-trained models, and audio example to the root folder."
      ]
    },
    {
      "cell_type": "code",
      "metadata": {
        "id": "F5Ld-uqBAdJH"
      },
      "source": [
        "!cp \"/content/audio-seg-data-synth/models/doMusicAndSpeechDetection.py\" .\n",
        "!cp \"/content/audio-seg-data-synth/models/model d-DS.h5\" .\n",
        "!cp \"/content/audio-seg-data-synth/Synthetic Radio Examples/example-1.wav\" ."
      ],
      "execution_count": null,
      "outputs": []
    },
    {
      "cell_type": "markdown",
      "metadata": {
        "id": "96lqpKHm9Ah8"
      },
      "source": [
        "Below is the example audio"
      ]
    },
    {
      "cell_type": "code",
      "metadata": {
        "id": "hh2WCZw96S1I"
      },
      "source": [
        "import IPython\n",
        "import soundfile as sf\n",
        "x, fs = sf.read('/content/example-1.wav')\n",
        "IPython.display.Audio(x, rate=fs)"
      ],
      "execution_count": null,
      "outputs": []
    },
    {
      "cell_type": "markdown",
      "metadata": {
        "id": "oaOqthHYCBnI"
      },
      "source": [
        "Perform the detection through the command-line argument."
      ]
    },
    {
      "cell_type": "code",
      "metadata": {
        "id": "8c_J8WfVAeoV"
      },
      "source": [
        "!python doMusicAndSpeechDetection.py \"example-1.wav\" \"example-1-preds.txt\""
      ],
      "execution_count": null,
      "outputs": []
    },
    {
      "cell_type": "markdown",
      "metadata": {
        "id": "pJtn5M_pAhmm"
      },
      "source": [
        "You can find the music-speech detection in \"example-1-preds.txt\""
      ]
    },
    {
      "cell_type": "markdown",
      "metadata": {
        "id": "dsdbeN3K8S4j"
      },
      "source": [
        "# Upload your own WAV file"
      ]
    },
    {
      "cell_type": "code",
      "metadata": {
        "id": "nIu5Qsoc8Vg_"
      },
      "source": [
        "from google.colab import files\n",
        "\n",
        "uploaded = files.upload()"
      ],
      "execution_count": null,
      "outputs": []
    },
    {
      "cell_type": "code",
      "metadata": {
        "id": "dRvTBwp88Vjc"
      },
      "source": [
        "for fn in uploaded.keys():\n",
        "  preds_file = fn.replace(\".wav\", \"-preds.txt\").replace(\".WAV\", \"-preds.txt\")\n",
        "  !python doMusicAndSpeechDetection.py \"{fn}\" \"{preds_file}\""
      ],
      "execution_count": null,
      "outputs": []
    },
    {
      "cell_type": "code",
      "metadata": {
        "id": "aQYClVih8Vlf"
      },
      "source": [
        "print(\"The prediction can be found in:\")\n",
        "for fn in uploaded.keys():\n",
        "  preds_file = fn.replace(\".wav\", \"-preds.txt\").replace(\".WAV\", \"-preds.txt\")\n",
        "  print(preds_file)"
      ],
      "execution_count": null,
      "outputs": []
    },
    {
      "cell_type": "markdown",
      "metadata": {
        "id": "QBN5EKBvnJJq"
      },
      "source": [
        "You can also run the function through the Python programme by using the subprocess module"
      ]
    },
    {
      "cell_type": "code",
      "metadata": {
        "id": "SpFcUiYAnIDL"
      },
      "source": [
        "from subprocess import Popen, PIPE\n",
        "import glob\n",
        "\n",
        "audio_files = glob.glob('*.wav')\n",
        "\n",
        "for a in audio_files:\n",
        "\tcommand = 'python doMusicAndSpeechDetection.py \"' + a + '\" \"' + a.replace('.wav', '-preds.txt') + '\"'\n",
        "\tp = Popen(command, stdin=PIPE, stdout=PIPE, stderr=PIPE, shell=True)\n",
        "\toutput, err = p.communicate() "
      ],
      "execution_count": null,
      "outputs": []
    },
    {
      "cell_type": "code",
      "metadata": {
        "id": "zc1vcOVzDEYU"
      },
      "source": [
        ""
      ],
      "execution_count": null,
      "outputs": []
    }
  ]
}